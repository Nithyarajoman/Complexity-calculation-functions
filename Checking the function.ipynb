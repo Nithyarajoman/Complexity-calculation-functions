{
 "cells": [
  {
   "cell_type": "code",
   "execution_count": 16,
   "metadata": {},
   "outputs": [],
   "source": [
    "import Library_functions\n",
    "from Library_functions import MAC_summary, data_summary"
   ]
  },
  {
   "cell_type": "code",
   "execution_count": 9,
   "metadata": {},
   "outputs": [],
   "source": [
    "import numpy as np\n",
    "import tensorflow as tf\n",
    "from tensorflow import keras\n",
    "from tensorflow.keras import layers, models"
   ]
  },
  {
   "cell_type": "code",
   "execution_count": null,
   "metadata": {},
   "outputs": [],
   "source": [
    "#!pip install Library_functions"
   ]
  },
  {
   "cell_type": "code",
   "execution_count": 10,
   "metadata": {},
   "outputs": [],
   "source": [
    "# Model with hierarchy\n",
    "\n",
    "model_hierarchy = models.Sequential(\n",
    "    [        \n",
    "        layers.Conv2D(32, kernel_size=(3, 3),\n",
    "                      input_shape=(28, 28, 1),\n",
    "                      strides=(2,2), padding=\"same\",\n",
    "                      use_bias=False),\n",
    "        layers.BatchNormalization(),\n",
    "        layers.Activation(activation=\"relu\"),\n",
    "        \n",
    "        models.Sequential(\n",
    "            [\n",
    "                layers.Conv2D(32, kernel_size=(3, 3),\n",
    "                      input_shape=(14, 14, 32),\n",
    "                      strides=(2,2), padding=\"same\",\n",
    "                      use_bias=False),\n",
    "                layers.BatchNormalization(),\n",
    "                layers.Activation(activation=\"relu\"),\n",
    "            ]\n",
    "        ),\n",
    "\n",
    "        layers.Conv2D(64, kernel_size=(3, 3),\n",
    "                      strides=(2,2), padding=\"same\",\n",
    "                      use_bias=False),\n",
    "        layers.BatchNormalization(),\n",
    "        layers.Activation(activation=\"relu\"),\n",
    "        layers.Flatten(),\n",
    "        layers.Dropout(0.5),\n",
    "        layers.Dense(10, activation='softmax')\n",
    "    ]\n",
    ")"
   ]
  },
  {
   "cell_type": "code",
   "execution_count": 11,
   "metadata": {},
   "outputs": [
    {
     "name": "stdout",
     "output_type": "stream",
     "text": [
      "               Layer Name |   MACs\n",
      "****************************************************************************************************\n",
      "                 conv2d_6 | 56448.0000\n",
      "    batch_normalization_6 | 0.0000\n",
      "             activation_6 | 0.0000\n",
      "             sequential_4(conv2d_7) | 451584.0000\n",
      "             sequential_4(batch_normalization_7) | 0.0000\n",
      "             sequential_4(activation_7) | 0.0000\n",
      "                 conv2d_8 | 225792.0000\n",
      "    batch_normalization_8 | 0.0000\n",
      "             activation_8 | 0.0000\n",
      "                flatten_2 | 0.0000\n",
      "                dropout_2 | 0.0000\n",
      "                  dense_2 | 10240.0000\n",
      "\n",
      "Total MACs operations in the complete model: 744064.00000000\n",
      "\n"
     ]
    }
   ],
   "source": [
    "MAC_summary(model_hierarchy)"
   ]
  },
  {
   "cell_type": "code",
   "execution_count": 12,
   "metadata": {},
   "outputs": [],
   "source": [
    "# Read data\n",
    "(x_train, y_train), (x_test, y_test) = keras.datasets.fashion_mnist.load_data()\n",
    "x_train = x_train.reshape(x_train.shape[0], 28, 28, 1).astype('float')/255\n",
    "x_test = x_test.reshape(x_test.shape[0], 28, 28, 1).astype('float')/255\n"
   ]
  },
  {
   "cell_type": "code",
   "execution_count": 13,
   "metadata": {},
   "outputs": [
    {
     "name": "stdout",
     "output_type": "stream",
     "text": [
      "32/32 [==============================] - 1s 6ms/step - loss: 2.3014 - accuracy: 0.1270 - sequential_4_conv2d_7: 0.8112 - sequential_4_batch_normalization_7: 0.8112 - sequential_4_activation_7: 0.3808 - sequential_5_conv2d_6: 0.6556 - sequential_5_batch_normalization_6: 0.6556 - sequential_5_activation_6: 0.3131 - sequential_5_conv2d_8: 0.9470 - sequential_5_batch_normalization_8: 0.9470 - sequential_5_activation_8: 0.4883 - sequential_5_flatten_2: 0.4883 - sequential_5_dropout_2: 0.4883 - sequential_5_dense_2: 1.0000\n",
      "                  Metrics and Layer Name | Effective data communicated\n",
      "******************************************************************************************************************************************************\n",
      "                                    loss | 2.3014\n",
      "                                accuracy | 0.1270\n",
      "                   sequential_4_conv2d_7 | 0.8112\n",
      "      sequential_4_batch_normalization_7 | 0.8112\n",
      "               sequential_4_activation_7 | 0.3808\n",
      "                   sequential_5_conv2d_6 | 0.6556\n",
      "      sequential_5_batch_normalization_6 | 0.6556\n",
      "               sequential_5_activation_6 | 0.3131\n",
      "                   sequential_5_conv2d_8 | 0.9470\n",
      "      sequential_5_batch_normalization_8 | 0.9470\n",
      "               sequential_5_activation_8 | 0.4883\n",
      "                  sequential_5_flatten_2 | 0.4883\n",
      "                  sequential_5_dropout_2 | 0.4883\n",
      "                    sequential_5_dense_2 | 1.0000\n"
     ]
    }
   ],
   "source": [
    "data_summary(model_hierarchy,x_test,y_test)"
   ]
  }
 ],
 "metadata": {
  "kernelspec": {
   "display_name": "Python 3",
   "language": "python",
   "name": "python3"
  },
  "language_info": {
   "codemirror_mode": {
    "name": "ipython",
    "version": 3
   },
   "file_extension": ".py",
   "mimetype": "text/x-python",
   "name": "python",
   "nbconvert_exporter": "python",
   "pygments_lexer": "ipython3",
   "version": "3.10.9"
  },
  "orig_nbformat": 4,
  "vscode": {
   "interpreter": {
    "hash": "cc2a200e1e6dab10c4dc3986f0e7a998296447c993c26561a1bd050a849d8214"
   }
  }
 },
 "nbformat": 4,
 "nbformat_minor": 2
}
